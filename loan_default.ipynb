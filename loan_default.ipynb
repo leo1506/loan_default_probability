{
 "cells": [
  {
   "cell_type": "markdown",
   "metadata": {},
   "source": [
    "# Loan default probability\n",
    "\n",
    "\n",
    "## 1. Problem Definition\n",
    "The problem is defined in the classification framework, where the predicted variable is “Charge-Off ”. A charge-off is a debt that a creditor has given up trying to collect on after you’ve missed payments for several months. The predicted variable takes value 1 in case of charge-off and 0 otherwise.\n",
    "\n",
    "This case study aims to analyze data for loans through 2007-2017Q3 from Lending Club available on Kaggle. Dataset contains over 887 thousand observations and 150 variables among which one is describing the loan status.\n",
    "\n",
    "## 2. Loading the data and python packages\n",
    "\n",
    "### 2.1. Loading the python packages"
   ]
  },
  {
   "cell_type": "code",
   "execution_count": 99,
   "metadata": {},
   "outputs": [],
   "source": [
    "# Load libraries\n",
    "import numpy as np\n",
    "import pandas as pd\n",
    "import matplotlib.pyplot as plt\n",
    "from pandas import read_csv, set_option\n",
    "from pandas.plotting import scatter_matrix\n",
    "import seaborn as sns\n",
    "import matplotlib as plt\n",
    "from sklearn.preprocessing import StandardScaler\n",
    "from sklearn.model_selection import train_test_split, KFold, cross_val_score, GridSearchCV\n",
    "from sklearn.linear_model import LogisticRegression\n",
    "from sklearn.tree import DecisionTreeClassifier\n",
    "from sklearn.neighbors import KNeighborsClassifier\n",
    "from sklearn.discriminant_analysis import LinearDiscriminantAnalysis\n",
    "from sklearn.naive_bayes import GaussianNB\n",
    "from sklearn.svm import SVC\n",
    "from sklearn.neural_network import MLPClassifier\n",
    "from sklearn.pipeline import Pipeline\n",
    "from sklearn.ensemble import AdaBoostClassifier, GradientBoostingClassifier, RandomForestClassifier, ExtraTreesClassifier\n",
    "from sklearn.metrics import classification_report, confusion_matrix, accuracy_score\n",
    "\n",
    "#Libraries for Deep Learning Models\n",
    "from tensorflow.keras.models import Sequential\n",
    "from tensorflow.keras.layers import Dense\n",
    "from tensorflow.keras.wrappers.scikit_learn import KerasClassifier\n",
    "from tensorflow.keras.optimizers import SGD\n",
    "\n",
    "#Libraries for Saving the Model\n",
    "from pickle import dump\n",
    "from pickle import load\n",
    "\n",
    "import warnings\n",
    "warnings.filterwarnings('ignore')"
   ]
  },
  {
   "cell_type": "markdown",
   "metadata": {},
   "source": [
    "### 2.2. Loading the Data\n",
    "\n",
    "We load the data in this step.\n",
    "\n"
   ]
  },
  {
   "cell_type": "code",
   "execution_count": 78,
   "metadata": {},
   "outputs": [
    {
     "name": "stdout",
     "output_type": "stream",
     "text": [
      "<class 'pandas.core.frame.DataFrame'>\n",
      "RangeIndex: 100000 entries, 0 to 99999\n",
      "Columns: 151 entries, Unnamed: 0 to settlement_term\n",
      "dtypes: float64(115), int64(2), object(34)\n",
      "memory usage: 115.2+ MB\n"
     ]
    },
    {
     "data": {
      "text/plain": [
       "(100000, 151)"
      ]
     },
     "execution_count": 78,
     "metadata": {},
     "output_type": "execute_result"
    }
   ],
   "source": [
    "# load dataset\n",
    "dataset= pd.read_csv('LoansData_sample.csv.gz', compression='gzip', encoding='utf-8')\n",
    "dataset.info()\n",
    "dataset.head()\n",
    "dataset.shape\n",
    "\n"
   ]
  },
  {
   "cell_type": "markdown",
   "metadata": {},
   "source": [
    "## 3. Data Preparation and Feature Selection\n",
    "\n",
    "### 3.1. Preparing the predicted variable"
   ]
  },
  {
   "cell_type": "code",
   "execution_count": 79,
   "metadata": {},
   "outputs": [
    {
     "data": {
      "text/plain": [
       "Fully Paid            69982\n",
       "Charged Off           16156\n",
       "Current               12726\n",
       "Late (31-120 days)      730\n",
       "In Grace Period         264\n",
       "Late (16-30 days)       139\n",
       "Default                   3\n",
       "Name: loan_status, dtype: int64"
      ]
     },
     "execution_count": 79,
     "metadata": {},
     "output_type": "execute_result"
    }
   ],
   "source": [
    "dataset['loan_status'].value_counts(dropna=False)"
   ]
  },
  {
   "cell_type": "markdown",
   "metadata": {},
   "source": [
    "We're going to try to learn differences in the features between completed loans that have been fully paid or charged off. We won't consider loans that are current, don't meet the credit policy, defaulted, or have a missing status. So we only keep the loans with status \"Fully Paid\" or \"Charged Off.\""
   ]
  },
  {
   "cell_type": "code",
   "execution_count": 80,
   "metadata": {},
   "outputs": [
    {
     "data": {
      "text/plain": [
       "Fully Paid     0.812441\n",
       "Charged Off    0.187559\n",
       "Name: loan_status, dtype: float64"
      ]
     },
     "execution_count": 80,
     "metadata": {},
     "output_type": "execute_result"
    }
   ],
   "source": [
    "dataset = dataset.loc[dataset['loan_status'].isin(['Fully Paid', 'Charged Off'])]\n",
    "dataset['loan_status'].value_counts(dropna=False)\n",
    "dataset['loan_status'].value_counts(normalize=True, dropna=False)"
   ]
  },
  {
   "cell_type": "markdown",
   "metadata": {},
   "source": [
    "About 79% of the remaining loans have been fully paid and 21% have charged off, so we have a somewhat unbalanced classification problem."
   ]
  },
  {
   "cell_type": "code",
   "execution_count": 81,
   "metadata": {},
   "outputs": [],
   "source": [
    "dataset['charged_off'] = (dataset['loan_status'] == 'Charged Off').apply(np.uint8)\n",
    "dataset.drop('loan_status', axis=1, inplace=True)"
   ]
  },
  {
   "cell_type": "markdown",
   "metadata": {},
   "source": [
    "### 3.2. Feature Selection-Limit the Feature Space\n",
    "The full dataset has 150 features for each loan. We’ll eliminate features in following steps using three different approaches:\n",
    "\n",
    "Eliminate feature that have more than 30% missing values.\n",
    "Eliminate features that are unintuitive based on subjective judgement.\n",
    "Eliminate features with low correlation with the predicted variable\n",
    "\n",
    "#### 3.2.1. Features elimination by significant missing values\n",
    "\n",
    "First calculating the percentage of missing data for each feature:\n",
    "\n"
   ]
  },
  {
   "cell_type": "code",
   "execution_count": 82,
   "metadata": {},
   "outputs": [
    {
     "name": "stdout",
     "output_type": "stream",
     "text": [
      "Drop list:  ['all_util', 'annual_inc_joint', 'debt_settlement_flag_date', 'deferral_term', 'desc', 'dti_joint', 'hardship_amount', 'hardship_dpd', 'hardship_end_date', 'hardship_last_payment_amount', 'hardship_length', 'hardship_loan_status', 'hardship_payoff_balance_amount', 'hardship_reason', 'hardship_start_date', 'hardship_status', 'hardship_type', 'il_util', 'inq_fi', 'inq_last_12m', 'max_bal_bc', 'member_id', 'mths_since_last_delinq', 'mths_since_last_major_derog', 'mths_since_last_record', 'mths_since_rcnt_il', 'mths_since_recent_bc_dlq', 'mths_since_recent_revol_delinq', 'next_pymnt_d', 'open_acc_6m', 'open_act_il', 'open_il_12m', 'open_il_24m', 'open_rv_12m', 'open_rv_24m', 'orig_projected_additional_accrued_interest', 'payment_plan_start_date', 'revol_bal_joint', 'sec_app_chargeoff_within_12_mths', 'sec_app_collections_12_mths_ex_med', 'sec_app_earliest_cr_line', 'sec_app_fico_range_high', 'sec_app_fico_range_low', 'sec_app_inq_last_6mths', 'sec_app_mort_acc', 'sec_app_mths_since_last_major_derog', 'sec_app_num_rev_accts', 'sec_app_open_acc', 'sec_app_open_act_il', 'sec_app_revol_util', 'settlement_amount', 'settlement_date', 'settlement_percentage', 'settlement_status', 'settlement_term', 'total_bal_il', 'total_cu_tl', 'verification_status_joint']\n"
     ]
    },
    {
     "data": {
      "text/plain": [
       "(86138, 93)"
      ]
     },
     "execution_count": 82,
     "metadata": {},
     "output_type": "execute_result"
    }
   ],
   "source": [
    "missing_fractions = dataset.isnull().mean().sort_values(ascending=False)\n",
    "drop_list = sorted(list(missing_fractions[missing_fractions > 0.3].index))\n",
    "print('Drop list: ', drop_list)\n",
    "dataset.drop(labels=drop_list, axis=1, inplace=True)\n",
    "dataset.shape"
   ]
  },
  {
   "cell_type": "markdown",
   "metadata": {},
   "source": [
    "#### 3.2.2. Features elimination based on the intutiveness\n",
    "\n",
    "In order to filter the features further we check the description in the data dictionary and keep the features that are intuitive on the basis of subjective judgement.\n",
    "\n",
    "We examine the LendingClub website and Data Dictionary to determine which features would have been available to potential investors. Here's the list of features we currently have, in alphabetical order:"
   ]
  },
  {
   "cell_type": "code",
   "execution_count": 83,
   "metadata": {},
   "outputs": [
    {
     "name": "stdout",
     "output_type": "stream",
     "text": [
      "['Unnamed: 0', 'acc_now_delinq', 'acc_open_past_24mths', 'addr_state', 'annual_inc', 'application_type', 'avg_cur_bal', 'bc_open_to_buy', 'bc_util', 'charged_off', 'chargeoff_within_12_mths', 'collection_recovery_fee', 'collections_12_mths_ex_med', 'debt_settlement_flag', 'delinq_2yrs', 'delinq_amnt', 'disbursement_method', 'dti', 'earliest_cr_line', 'emp_length', 'emp_title', 'fico_range_high', 'fico_range_low', 'funded_amnt', 'funded_amnt_inv', 'grade', 'hardship_flag', 'home_ownership', 'id', 'initial_list_status', 'inq_last_6mths', 'installment', 'int_rate', 'issue_d', 'last_credit_pull_d', 'last_fico_range_high', 'last_fico_range_low', 'last_pymnt_amnt', 'last_pymnt_d', 'loan_amnt', 'mo_sin_old_il_acct', 'mo_sin_old_rev_tl_op', 'mo_sin_rcnt_rev_tl_op', 'mo_sin_rcnt_tl', 'mort_acc', 'mths_since_recent_bc', 'mths_since_recent_inq', 'num_accts_ever_120_pd', 'num_actv_bc_tl', 'num_actv_rev_tl', 'num_bc_sats', 'num_bc_tl', 'num_il_tl', 'num_op_rev_tl', 'num_rev_accts', 'num_rev_tl_bal_gt_0', 'num_sats', 'num_tl_120dpd_2m', 'num_tl_30dpd', 'num_tl_90g_dpd_24m', 'num_tl_op_past_12m', 'open_acc', 'out_prncp', 'out_prncp_inv', 'pct_tl_nvr_dlq', 'percent_bc_gt_75', 'policy_code', 'pub_rec', 'pub_rec_bankruptcies', 'purpose', 'pymnt_plan', 'recoveries', 'revol_bal', 'revol_util', 'sub_grade', 'tax_liens', 'term', 'title', 'tot_coll_amt', 'tot_cur_bal', 'tot_hi_cred_lim', 'total_acc', 'total_bal_ex_mort', 'total_bc_limit', 'total_il_high_credit_limit', 'total_pymnt', 'total_pymnt_inv', 'total_rec_int', 'total_rec_late_fee', 'total_rec_prncp', 'total_rev_hi_lim', 'verification_status', 'zip_code']\n"
     ]
    }
   ],
   "source": [
    "print(sorted(dataset.columns))"
   ]
  },
  {
   "cell_type": "code",
   "execution_count": 84,
   "metadata": {},
   "outputs": [
    {
     "data": {
      "text/plain": [
       "(86138, 39)"
      ]
     },
     "execution_count": 84,
     "metadata": {},
     "output_type": "execute_result"
    }
   ],
   "source": [
    "keep_list = ['charged_off','funded_amnt','addr_state', 'annual_inc', 'application_type', 'dti', 'earliest_cr_line', 'emp_length', 'emp_title', 'fico_range_high', 'fico_range_low', 'grade', 'home_ownership', 'id', 'initial_list_status', 'installment', 'int_rate', 'loan_amnt', 'loan_status', 'mort_acc', 'open_acc', 'pub_rec', 'pub_rec_bankruptcies', 'purpose', 'revol_bal', 'revol_util', 'sub_grade', 'term', 'title', 'total_acc', 'verification_status', 'zip_code','last_pymnt_amnt','num_actv_rev_tl', 'mo_sin_rcnt_rev_tl_op','mo_sin_old_rev_tl_op',\"bc_util\",\"bc_open_to_buy\",\"avg_cur_bal\",\"acc_open_past_24mths\" ]\n",
    "len(keep_list)\n",
    "drop_list = [col for col in dataset.columns if col not in keep_list]\n",
    "dataset.drop(labels=drop_list, axis=1, inplace=True)\n",
    "dataset.shape"
   ]
  },
  {
   "cell_type": "markdown",
   "metadata": {},
   "source": [
    "### 3.2.3. Features elimination based on the correlation"
   ]
  },
  {
   "cell_type": "code",
   "execution_count": 85,
   "metadata": {},
   "outputs": [
    {
     "data": {
      "text/plain": [
       "charged_off              1.000000\n",
       "last_pymnt_amnt          0.319081\n",
       "int_rate                 0.282825\n",
       "dti                      0.123108\n",
       "fico_range_low           0.121892\n",
       "fico_range_high          0.121891\n",
       "acc_open_past_24mths     0.105989\n",
       "bc_open_to_buy           0.080077\n",
       "bc_util                  0.077744\n",
       "avg_cur_bal              0.071977\n",
       "num_actv_rev_tl          0.071185\n",
       "revol_util               0.066188\n",
       "funded_amnt              0.060818\n",
       "loan_amnt                0.060818\n",
       "mort_acc                 0.057858\n",
       "annual_inc               0.050349\n",
       "mo_sin_old_rev_tl_op     0.049426\n",
       "mo_sin_rcnt_rev_tl_op    0.048839\n",
       "open_acc                 0.039430\n",
       "installment              0.032847\n",
       "revol_bal                0.021714\n",
       "pub_rec                  0.016023\n",
       "pub_rec_bankruptcies     0.015815\n",
       "total_acc                0.005804\n",
       "id                       0.002221\n",
       "Name: charged_off, dtype: float64"
      ]
     },
     "execution_count": 85,
     "metadata": {},
     "output_type": "execute_result"
    }
   ],
   "source": [
    "correlation = dataset.corr()\n",
    "correlation_chargeOff = abs(correlation['charged_off'])\n",
    "correlation_chargeOff.sort_values(ascending=False)"
   ]
  },
  {
   "cell_type": "code",
   "execution_count": 86,
   "metadata": {},
   "outputs": [
    {
     "name": "stdout",
     "output_type": "stream",
     "text": [
      "['id', 'pub_rec', 'pub_rec_bankruptcies', 'revol_bal', 'total_acc']\n"
     ]
    },
    {
     "data": {
      "text/plain": [
       "(86138, 34)"
      ]
     },
     "execution_count": 86,
     "metadata": {},
     "output_type": "execute_result"
    }
   ],
   "source": [
    "drop_list_corr = sorted(list(correlation_chargeOff[correlation_chargeOff < 0.03].index))\n",
    "print(drop_list_corr)\n",
    "dataset.drop(labels=drop_list_corr, axis=1, inplace=True)\n",
    "dataset.shape\n"
   ]
  },
  {
   "cell_type": "markdown",
   "metadata": {},
   "source": [
    "## 4. Feature Engineering and Exploratory Analysis\n",
    "\n",
    "### 4.1.1. Analysing the categorical features"
   ]
  },
  {
   "cell_type": "code",
   "execution_count": 87,
   "metadata": {},
   "outputs": [
    {
     "data": {
      "text/html": [
       "<div>\n",
       "<style scoped>\n",
       "    .dataframe tbody tr th:only-of-type {\n",
       "        vertical-align: middle;\n",
       "    }\n",
       "\n",
       "    .dataframe tbody tr th {\n",
       "        vertical-align: top;\n",
       "    }\n",
       "\n",
       "    .dataframe thead th {\n",
       "        text-align: right;\n",
       "    }\n",
       "</style>\n",
       "<table border=\"1\" class=\"dataframe\">\n",
       "  <thead>\n",
       "    <tr style=\"text-align: right;\">\n",
       "      <th></th>\n",
       "      <th>loan_amnt</th>\n",
       "      <th>funded_amnt</th>\n",
       "      <th>int_rate</th>\n",
       "      <th>installment</th>\n",
       "      <th>annual_inc</th>\n",
       "      <th>dti</th>\n",
       "      <th>fico_range_low</th>\n",
       "      <th>fico_range_high</th>\n",
       "      <th>open_acc</th>\n",
       "      <th>revol_util</th>\n",
       "      <th>last_pymnt_amnt</th>\n",
       "      <th>acc_open_past_24mths</th>\n",
       "      <th>avg_cur_bal</th>\n",
       "      <th>bc_open_to_buy</th>\n",
       "      <th>bc_util</th>\n",
       "      <th>mo_sin_old_rev_tl_op</th>\n",
       "      <th>mo_sin_rcnt_rev_tl_op</th>\n",
       "      <th>mort_acc</th>\n",
       "      <th>num_actv_rev_tl</th>\n",
       "      <th>charged_off</th>\n",
       "    </tr>\n",
       "  </thead>\n",
       "  <tbody>\n",
       "    <tr>\n",
       "      <th>count</th>\n",
       "      <td>86138.000000</td>\n",
       "      <td>86138.000000</td>\n",
       "      <td>86138.000000</td>\n",
       "      <td>86138.000000</td>\n",
       "      <td>8.613800e+04</td>\n",
       "      <td>86138.000000</td>\n",
       "      <td>86138.000000</td>\n",
       "      <td>86138.000000</td>\n",
       "      <td>86138.000000</td>\n",
       "      <td>86094.000000</td>\n",
       "      <td>86138.000000</td>\n",
       "      <td>86138.000000</td>\n",
       "      <td>86138.000000</td>\n",
       "      <td>85142.000000</td>\n",
       "      <td>85089.000000</td>\n",
       "      <td>86138.000000</td>\n",
       "      <td>86138.000000</td>\n",
       "      <td>86138.000000</td>\n",
       "      <td>86138.000000</td>\n",
       "      <td>86138.000000</td>\n",
       "    </tr>\n",
       "    <tr>\n",
       "      <th>mean</th>\n",
       "      <td>14106.526446</td>\n",
       "      <td>14106.526446</td>\n",
       "      <td>13.002360</td>\n",
       "      <td>430.737187</td>\n",
       "      <td>7.384311e+04</td>\n",
       "      <td>18.532747</td>\n",
       "      <td>692.462966</td>\n",
       "      <td>696.463024</td>\n",
       "      <td>11.746453</td>\n",
       "      <td>54.582777</td>\n",
       "      <td>4757.453184</td>\n",
       "      <td>4.594732</td>\n",
       "      <td>13066.638371</td>\n",
       "      <td>8942.506507</td>\n",
       "      <td>63.808959</td>\n",
       "      <td>183.524333</td>\n",
       "      <td>12.796896</td>\n",
       "      <td>1.748880</td>\n",
       "      <td>5.762358</td>\n",
       "      <td>0.187559</td>\n",
       "    </tr>\n",
       "    <tr>\n",
       "      <th>std</th>\n",
       "      <td>8391.139221</td>\n",
       "      <td>8391.139221</td>\n",
       "      <td>4.397419</td>\n",
       "      <td>251.653139</td>\n",
       "      <td>5.929352e+04</td>\n",
       "      <td>8.538247</td>\n",
       "      <td>29.731549</td>\n",
       "      <td>29.731848</td>\n",
       "      <td>5.433122</td>\n",
       "      <td>23.515901</td>\n",
       "      <td>6466.767327</td>\n",
       "      <td>3.070996</td>\n",
       "      <td>16232.739293</td>\n",
       "      <td>14100.186250</td>\n",
       "      <td>27.051347</td>\n",
       "      <td>93.266430</td>\n",
       "      <td>16.224586</td>\n",
       "      <td>2.091488</td>\n",
       "      <td>3.224598</td>\n",
       "      <td>0.390362</td>\n",
       "    </tr>\n",
       "    <tr>\n",
       "      <th>min</th>\n",
       "      <td>1000.000000</td>\n",
       "      <td>1000.000000</td>\n",
       "      <td>6.000000</td>\n",
       "      <td>30.420000</td>\n",
       "      <td>4.000000e+03</td>\n",
       "      <td>0.000000</td>\n",
       "      <td>660.000000</td>\n",
       "      <td>664.000000</td>\n",
       "      <td>1.000000</td>\n",
       "      <td>0.000000</td>\n",
       "      <td>0.000000</td>\n",
       "      <td>0.000000</td>\n",
       "      <td>0.000000</td>\n",
       "      <td>0.000000</td>\n",
       "      <td>0.000000</td>\n",
       "      <td>3.000000</td>\n",
       "      <td>0.000000</td>\n",
       "      <td>0.000000</td>\n",
       "      <td>0.000000</td>\n",
       "      <td>0.000000</td>\n",
       "    </tr>\n",
       "    <tr>\n",
       "      <th>25%</th>\n",
       "      <td>7800.000000</td>\n",
       "      <td>7800.000000</td>\n",
       "      <td>9.490000</td>\n",
       "      <td>248.480000</td>\n",
       "      <td>4.500000e+04</td>\n",
       "      <td>12.070000</td>\n",
       "      <td>670.000000</td>\n",
       "      <td>674.000000</td>\n",
       "      <td>8.000000</td>\n",
       "      <td>37.200000</td>\n",
       "      <td>358.522500</td>\n",
       "      <td>2.000000</td>\n",
       "      <td>3010.000000</td>\n",
       "      <td>1087.000000</td>\n",
       "      <td>44.100000</td>\n",
       "      <td>118.000000</td>\n",
       "      <td>3.000000</td>\n",
       "      <td>0.000000</td>\n",
       "      <td>3.000000</td>\n",
       "      <td>0.000000</td>\n",
       "    </tr>\n",
       "    <tr>\n",
       "      <th>50%</th>\n",
       "      <td>12000.000000</td>\n",
       "      <td>12000.000000</td>\n",
       "      <td>12.990000</td>\n",
       "      <td>370.480000</td>\n",
       "      <td>6.247372e+04</td>\n",
       "      <td>17.950000</td>\n",
       "      <td>685.000000</td>\n",
       "      <td>689.000000</td>\n",
       "      <td>11.000000</td>\n",
       "      <td>54.900000</td>\n",
       "      <td>1241.230000</td>\n",
       "      <td>4.000000</td>\n",
       "      <td>6994.500000</td>\n",
       "      <td>3823.000000</td>\n",
       "      <td>67.700000</td>\n",
       "      <td>167.000000</td>\n",
       "      <td>8.000000</td>\n",
       "      <td>1.000000</td>\n",
       "      <td>5.000000</td>\n",
       "      <td>0.000000</td>\n",
       "    </tr>\n",
       "    <tr>\n",
       "      <th>75%</th>\n",
       "      <td>20000.000000</td>\n",
       "      <td>20000.000000</td>\n",
       "      <td>15.610000</td>\n",
       "      <td>568.005000</td>\n",
       "      <td>9.000000e+04</td>\n",
       "      <td>24.500000</td>\n",
       "      <td>705.000000</td>\n",
       "      <td>709.000000</td>\n",
       "      <td>14.000000</td>\n",
       "      <td>72.500000</td>\n",
       "      <td>7303.205000</td>\n",
       "      <td>6.000000</td>\n",
       "      <td>17905.000000</td>\n",
       "      <td>10588.000000</td>\n",
       "      <td>87.500000</td>\n",
       "      <td>232.000000</td>\n",
       "      <td>15.000000</td>\n",
       "      <td>3.000000</td>\n",
       "      <td>7.000000</td>\n",
       "      <td>0.000000</td>\n",
       "    </tr>\n",
       "    <tr>\n",
       "      <th>max</th>\n",
       "      <td>35000.000000</td>\n",
       "      <td>35000.000000</td>\n",
       "      <td>26.060000</td>\n",
       "      <td>1408.130000</td>\n",
       "      <td>7.500000e+06</td>\n",
       "      <td>39.990000</td>\n",
       "      <td>845.000000</td>\n",
       "      <td>850.000000</td>\n",
       "      <td>84.000000</td>\n",
       "      <td>180.300000</td>\n",
       "      <td>36234.440000</td>\n",
       "      <td>53.000000</td>\n",
       "      <td>447433.000000</td>\n",
       "      <td>249625.000000</td>\n",
       "      <td>255.200000</td>\n",
       "      <td>718.000000</td>\n",
       "      <td>372.000000</td>\n",
       "      <td>34.000000</td>\n",
       "      <td>38.000000</td>\n",
       "      <td>1.000000</td>\n",
       "    </tr>\n",
       "  </tbody>\n",
       "</table>\n",
       "</div>"
      ],
      "text/plain": [
       "          loan_amnt   funded_amnt      int_rate   installment    annual_inc  \\\n",
       "count  86138.000000  86138.000000  86138.000000  86138.000000  8.613800e+04   \n",
       "mean   14106.526446  14106.526446     13.002360    430.737187  7.384311e+04   \n",
       "std     8391.139221   8391.139221      4.397419    251.653139  5.929352e+04   \n",
       "min     1000.000000   1000.000000      6.000000     30.420000  4.000000e+03   \n",
       "25%     7800.000000   7800.000000      9.490000    248.480000  4.500000e+04   \n",
       "50%    12000.000000  12000.000000     12.990000    370.480000  6.247372e+04   \n",
       "75%    20000.000000  20000.000000     15.610000    568.005000  9.000000e+04   \n",
       "max    35000.000000  35000.000000     26.060000   1408.130000  7.500000e+06   \n",
       "\n",
       "                dti  fico_range_low  fico_range_high      open_acc  \\\n",
       "count  86138.000000    86138.000000     86138.000000  86138.000000   \n",
       "mean      18.532747      692.462966       696.463024     11.746453   \n",
       "std        8.538247       29.731549        29.731848      5.433122   \n",
       "min        0.000000      660.000000       664.000000      1.000000   \n",
       "25%       12.070000      670.000000       674.000000      8.000000   \n",
       "50%       17.950000      685.000000       689.000000     11.000000   \n",
       "75%       24.500000      705.000000       709.000000     14.000000   \n",
       "max       39.990000      845.000000       850.000000     84.000000   \n",
       "\n",
       "         revol_util  last_pymnt_amnt  acc_open_past_24mths    avg_cur_bal  \\\n",
       "count  86094.000000     86138.000000          86138.000000   86138.000000   \n",
       "mean      54.582777      4757.453184              4.594732   13066.638371   \n",
       "std       23.515901      6466.767327              3.070996   16232.739293   \n",
       "min        0.000000         0.000000              0.000000       0.000000   \n",
       "25%       37.200000       358.522500              2.000000    3010.000000   \n",
       "50%       54.900000      1241.230000              4.000000    6994.500000   \n",
       "75%       72.500000      7303.205000              6.000000   17905.000000   \n",
       "max      180.300000     36234.440000             53.000000  447433.000000   \n",
       "\n",
       "       bc_open_to_buy       bc_util  mo_sin_old_rev_tl_op  \\\n",
       "count    85142.000000  85089.000000          86138.000000   \n",
       "mean      8942.506507     63.808959            183.524333   \n",
       "std      14100.186250     27.051347             93.266430   \n",
       "min          0.000000      0.000000              3.000000   \n",
       "25%       1087.000000     44.100000            118.000000   \n",
       "50%       3823.000000     67.700000            167.000000   \n",
       "75%      10588.000000     87.500000            232.000000   \n",
       "max     249625.000000    255.200000            718.000000   \n",
       "\n",
       "       mo_sin_rcnt_rev_tl_op      mort_acc  num_actv_rev_tl   charged_off  \n",
       "count           86138.000000  86138.000000     86138.000000  86138.000000  \n",
       "mean               12.796896      1.748880         5.762358      0.187559  \n",
       "std                16.224586      2.091488         3.224598      0.390362  \n",
       "min                 0.000000      0.000000         0.000000      0.000000  \n",
       "25%                 3.000000      0.000000         3.000000      0.000000  \n",
       "50%                 8.000000      1.000000         5.000000      0.000000  \n",
       "75%                15.000000      3.000000         7.000000      0.000000  \n",
       "max               372.000000     34.000000        38.000000      1.000000  "
      ]
     },
     "execution_count": 87,
     "metadata": {},
     "output_type": "execute_result"
    }
   ],
   "source": [
    "#Descriptive Statistics\n",
    "dataset.describe()"
   ]
  },
  {
   "cell_type": "code",
   "execution_count": 88,
   "metadata": {},
   "outputs": [
    {
     "data": {
      "text/html": [
       "<div>\n",
       "<style scoped>\n",
       "    .dataframe tbody tr th:only-of-type {\n",
       "        vertical-align: middle;\n",
       "    }\n",
       "\n",
       "    .dataframe tbody tr th {\n",
       "        vertical-align: top;\n",
       "    }\n",
       "\n",
       "    .dataframe thead th {\n",
       "        text-align: right;\n",
       "    }\n",
       "</style>\n",
       "<table border=\"1\" class=\"dataframe\">\n",
       "  <thead>\n",
       "    <tr style=\"text-align: right;\">\n",
       "      <th></th>\n",
       "      <th>emp_title</th>\n",
       "      <th>title</th>\n",
       "      <th>zip_code</th>\n",
       "    </tr>\n",
       "  </thead>\n",
       "  <tbody>\n",
       "    <tr>\n",
       "      <th>count</th>\n",
       "      <td>81416</td>\n",
       "      <td>86138</td>\n",
       "      <td>86138</td>\n",
       "    </tr>\n",
       "    <tr>\n",
       "      <th>unique</th>\n",
       "      <td>32987</td>\n",
       "      <td>20</td>\n",
       "      <td>846</td>\n",
       "    </tr>\n",
       "    <tr>\n",
       "      <th>top</th>\n",
       "      <td>Teacher</td>\n",
       "      <td>Debt consolidation</td>\n",
       "      <td>750xx</td>\n",
       "    </tr>\n",
       "    <tr>\n",
       "      <th>freq</th>\n",
       "      <td>1576</td>\n",
       "      <td>52990</td>\n",
       "      <td>954</td>\n",
       "    </tr>\n",
       "  </tbody>\n",
       "</table>\n",
       "</div>"
      ],
      "text/plain": [
       "       emp_title               title zip_code\n",
       "count      81416               86138    86138\n",
       "unique     32987                  20      846\n",
       "top      Teacher  Debt consolidation    750xx\n",
       "freq        1576               52990      954"
      ]
     },
     "execution_count": 88,
     "metadata": {},
     "output_type": "execute_result"
    }
   ],
   "source": [
    "dataset[['emp_title','title','zip_code']].describe()"
   ]
  },
  {
   "cell_type": "code",
   "execution_count": 89,
   "metadata": {},
   "outputs": [],
   "source": [
    "#these column is dropped The ID is not useful for modeling.\n",
    "dataset.drop(['emp_title','title','zip_code'], axis=1, inplace=True)"
   ]
  },
  {
   "cell_type": "markdown",
   "metadata": {},
   "source": [
    "##### Feature - Term"
   ]
  },
  {
   "cell_type": "code",
   "execution_count": 90,
   "metadata": {},
   "outputs": [],
   "source": [
    "#\"The number of payments on the loan. Values are in months and can be either 36 or 60.\". \n",
    "#The 60 Months loans are more likelely to charge off\n",
    "#Convert term to integers\n",
    "dataset['term'] = dataset['term'].apply(lambda s: np.int8(s.split()[0]))"
   ]
  },
  {
   "cell_type": "code",
   "execution_count": 91,
   "metadata": {},
   "outputs": [
    {
     "data": {
      "text/plain": [
       "term\n",
       "36    0.141526\n",
       "60    0.354356\n",
       "Name: charged_off, dtype: float64"
      ]
     },
     "execution_count": 91,
     "metadata": {},
     "output_type": "execute_result"
    }
   ],
   "source": [
    "dataset.groupby('term')['charged_off'].value_counts(normalize=True).loc[:,1]"
   ]
  },
  {
   "cell_type": "markdown",
   "metadata": {},
   "source": [
    "Loans with five-year periods are more than twice as likely to charge-off as loans with three-year periods.\n",
    "\n",
    "\n",
    "##### Feature - Employement Length"
   ]
  },
  {
   "cell_type": "code",
   "execution_count": 92,
   "metadata": {},
   "outputs": [
    {
     "data": {
      "text/plain": [
       "0        10 years\n",
       "1         8 years\n",
       "2         6 years\n",
       "4         0 years\n",
       "5        10 years\n",
       "           ...   \n",
       "99994    10 years\n",
       "99995     2 years\n",
       "99996     3 years\n",
       "99998    10 years\n",
       "99999     3 years\n",
       "Name: emp_length, Length: 86138, dtype: object"
      ]
     },
     "execution_count": 92,
     "metadata": {},
     "output_type": "execute_result"
    }
   ],
   "source": [
    "dataset['emp_length'].replace(to_replace='10+ years', value='10 years', inplace=True)\n",
    "dataset['emp_length'].replace('< 1 year', '0 years', inplace=True)\n",
    "dataset['emp_length']"
   ]
  },
  {
   "cell_type": "code",
   "execution_count": 93,
   "metadata": {},
   "outputs": [
    {
     "data": {
      "text/plain": [
       "0        10.0\n",
       "1         8.0\n",
       "2         6.0\n",
       "4         0.0\n",
       "5        10.0\n",
       "         ... \n",
       "99994    10.0\n",
       "99995     2.0\n",
       "99996     3.0\n",
       "99998    10.0\n",
       "99999     3.0\n",
       "Name: emp_length, Length: 86138, dtype: float64"
      ]
     },
     "execution_count": 93,
     "metadata": {},
     "output_type": "execute_result"
    }
   ],
   "source": [
    "def emp_length_to_int(s):\n",
    "    if pd.isnull(s):\n",
    "        return s\n",
    "    else:\n",
    "        return np.int8(s.split()[0])\n",
    "dataset['emp_length'] = dataset['emp_length'].apply(emp_length_to_int)\n",
    "dataset['emp_length']"
   ]
  },
  {
   "cell_type": "code",
   "execution_count": 105,
   "metadata": {},
   "outputs": [
    {
     "data": {
      "image/png": "[encoded data removed]",
      "text/plain": [
       "<Figure size 432x288 with 1 Axes>"
      ]
     },
     "metadata": {
      "needs_background": "light"
     },
     "output_type": "display_data"
    }
   ],
   "source": [
    "charge_off_rates = dataset.groupby('emp_length')['charged_off'].value_counts(normalize = True).loc[:,1]\n",
    "sns.barplot(x=charge_off_rates.index, y=charge_off_rates.values, color='#5975A4', saturation=1)\n",
    "plt.show()"
   ]
  },
  {
   "cell_type": "markdown",
   "metadata": {},
   "source": [
    "Loan status does not appear to vary much with employment length on average, hence it is dropped"
   ]
  },
  {
   "cell_type": "code",
   "execution_count": 106,
   "metadata": {},
   "outputs": [],
   "source": [
    "dataset.drop(['emp_length'], axis=1, inplace=True)"
   ]
  },
  {
   "cell_type": "markdown",
   "metadata": {},
   "source": [
    "##### Feature : Subgrade"
   ]
  },
  {
   "cell_type": "code",
   "execution_count": 107,
   "metadata": {},
   "outputs": [
    {
     "data": {
      "text/plain": [
       "0        C1\n",
       "1        A3\n",
       "2        D1\n",
       "4        C3\n",
       "5        C3\n",
       "         ..\n",
       "99994    B2\n",
       "99995    B1\n",
       "99996    C1\n",
       "99998    F4\n",
       "99999    B2\n",
       "Name: sub_grade, Length: 86138, dtype: object"
      ]
     },
     "execution_count": 107,
     "metadata": {},
     "output_type": "execute_result"
    }
   ],
   "source": [
    "dataset['sub_grade']"
   ]
  },
  {
   "cell_type": "code",
   "execution_count": 109,
   "metadata": {},
   "outputs": [
    {
     "data": {
      "image/png": "[encoded data removed]",
      "text/plain": [
       "<Figure size 864x360 with 1 Axes>"
      ]
     },
     "metadata": {},
     "output_type": "display_data"
    }
   ],
   "source": [
    "charge_off_rates = dataset.groupby('sub_grade')['charged_off'].value_counts(normalize=True).loc[:,1]\n",
    "sns.set(rc={'figure.figsize':(12,5)})\n",
    "sns.barplot(x=charge_off_rates.index, y=charge_off_rates.values, color='#5975A4', saturation=1)\n",
    "plt.show()"
   ]
  },
  {
   "cell_type": "markdown",
   "metadata": {},
   "source": [
    "There's a clear trend of higher probability of charge-off as the subgrade worsens, and so it is considered to be a key feature."
   ]
  },
  {
   "cell_type": "code",
   "execution_count": 110,
   "metadata": {},
   "outputs": [
    {
     "data": {
      "text/plain": [
       "0        Aug-1994\n",
       "1        Sep-1989\n",
       "2        Aug-2003\n",
       "4        Aug-2002\n",
       "5        Nov-1992\n",
       "           ...   \n",
       "99994    Nov-1984\n",
       "99995    Aug-1990\n",
       "99996    May-2001\n",
       "99998    Nov-2000\n",
       "99999    Jul-1999\n",
       "Name: earliest_cr_line, Length: 86138, dtype: object"
      ]
     },
     "execution_count": 110,
     "metadata": {},
     "output_type": "execute_result"
    }
   ],
   "source": [
    "dataset['earliest_cr_line']"
   ]
  },
  {
   "cell_type": "code",
   "execution_count": 111,
   "metadata": {},
   "outputs": [
    {
     "data": {
      "text/plain": [
       "0        1994\n",
       "1        1989\n",
       "2        2003\n",
       "4        2002\n",
       "5        1992\n",
       "         ... \n",
       "99994    1984\n",
       "99995    1990\n",
       "99996    2001\n",
       "99998    2000\n",
       "99999    1999\n",
       "Name: earliest_cr_line, Length: 86138, dtype: int64"
      ]
     },
     "execution_count": 111,
     "metadata": {},
     "output_type": "execute_result"
    }
   ],
   "source": [
    "dataset['earliest_cr_line'] = dataset['earliest_cr_line'].apply(lambda s: int(s[-4:]))\n",
    "dataset['earliest_cr_line']"
   ]
  },
  {
   "cell_type": "markdown",
   "metadata": {},
   "source": [
    "### 4.1.2. Analysing the continuous features\n",
    "#### Feature : Annual Income\n",
    "\n"
   ]
  },
  {
   "cell_type": "code",
   "execution_count": 119,
   "metadata": {},
   "outputs": [
    {
     "name": "stdout",
     "output_type": "stream",
     "text": [
      "count    8.613800e+04\n",
      "mean     7.384311e+04\n",
      "std      5.929352e+04\n",
      "min      4.000000e+03\n",
      "25%      4.500000e+04\n",
      "50%      6.247372e+04\n",
      "75%      9.000000e+04\n",
      "max      7.500000e+06\n",
      "Name: annual_inc, dtype: float64\n"
     ]
    },
    {
     "data": {
      "text/plain": [
       "0      78000.0\n",
       "1      58000.0\n",
       "2      63800.0\n",
       "4      50000.0\n",
       "5      69000.0\n",
       "6      89000.0\n",
       "7     109777.0\n",
       "8      72000.0\n",
       "9      26000.0\n",
       "10     90000.0\n",
       "Name: annual_inc, dtype: float64"
      ]
     },
     "execution_count": 119,
     "metadata": {},
     "output_type": "execute_result"
    }
   ],
   "source": [
    "print(dataset['annual_inc'].describe())\n",
    "dataset['annual_inc'].head(10)"
   ]
  },
  {
   "cell_type": "markdown",
   "metadata": {},
   "source": [
    "Annual income ranges from 0 to 9,550,000, with a median of $65,000. Because of the large range of incomes, we should take a log transform of the annual income variable."
   ]
  },
  {
   "cell_type": "code",
   "execution_count": 121,
   "metadata": {},
   "outputs": [
    {
     "data": {
      "text/plain": [
       "0     4.892100\n",
       "1     4.763435\n",
       "2     4.804827\n",
       "4     4.698979\n",
       "5     4.838855\n",
       "6     4.949395\n",
       "7     5.040515\n",
       "8     4.857339\n",
       "9     4.414990\n",
       "10    4.954247\n",
       "Name: log_annual_inc, dtype: float64"
      ]
     },
     "execution_count": 121,
     "metadata": {},
     "output_type": "execute_result"
    }
   ],
   "source": [
    "dataset['log_annual_inc'] = dataset['annual_inc'].apply(lambda x: np.log10(x+1))\n",
    "dataset.drop('annual_inc', axis=1, inplace=True)\n",
    "dataset['log_annual_inc'].head(10)"
   ]
  },
  {
   "cell_type": "markdown",
   "metadata": {},
   "source": [
    "#### FICO Scores\n"
   ]
  },
  {
   "cell_type": "code",
   "execution_count": 123,
   "metadata": {},
   "outputs": [
    {
     "data": {
      "text/html": [
       "<div>\n",
       "<style scoped>\n",
       "    .dataframe tbody tr th:only-of-type {\n",
       "        vertical-align: middle;\n",
       "    }\n",
       "\n",
       "    .dataframe tbody tr th {\n",
       "        vertical-align: top;\n",
       "    }\n",
       "\n",
       "    .dataframe thead th {\n",
       "        text-align: right;\n",
       "    }\n",
       "</style>\n",
       "<table border=\"1\" class=\"dataframe\">\n",
       "  <thead>\n",
       "    <tr style=\"text-align: right;\">\n",
       "      <th></th>\n",
       "      <th>fico_range_low</th>\n",
       "      <th>fico_range_high</th>\n",
       "    </tr>\n",
       "  </thead>\n",
       "  <tbody>\n",
       "    <tr>\n",
       "      <th>fico_range_low</th>\n",
       "      <td>1.0</td>\n",
       "      <td>1.0</td>\n",
       "    </tr>\n",
       "    <tr>\n",
       "      <th>fico_range_high</th>\n",
       "      <td>1.0</td>\n",
       "      <td>1.0</td>\n",
       "    </tr>\n",
       "  </tbody>\n",
       "</table>\n",
       "</div>"
      ],
      "text/plain": [
       "                 fico_range_low  fico_range_high\n",
       "fico_range_low              1.0              1.0\n",
       "fico_range_high             1.0              1.0"
      ]
     },
     "execution_count": 123,
     "metadata": {},
     "output_type": "execute_result"
    }
   ],
   "source": [
    "dataset[['fico_range_low','fico_range_high']].corr()"
   ]
  },
  {
   "cell_type": "markdown",
   "metadata": {},
   "source": [
    "Given that the correlation between fico low and high is 1 it is preferred to keep only one feature which is average of FICO Scores"
   ]
  },
  {
   "cell_type": "code",
   "execution_count": 125,
   "metadata": {},
   "outputs": [],
   "source": [
    "dataset['fico_score'] = 0.5*dataset['fico_range_low'] + 0.5*dataset['fico_range_high']\n",
    "dataset.drop(['fico_range_high', 'fico_range_low'], axis=1, inplace=True)"
   ]
  },
  {
   "cell_type": "code",
   "execution_count": 126,
   "metadata": {},
   "outputs": [
    {
     "data": {
      "text/plain": [
       "0    69982\n",
       "1    16156\n",
       "Name: charged_off, dtype: int64"
      ]
     },
     "execution_count": 126,
     "metadata": {},
     "output_type": "execute_result"
    }
   ],
   "source": [
    "dataset['charged_off'].value_counts()"
   ]
  },
  {
   "cell_type": "markdown",
   "metadata": {},
   "source": [
    "## 4.2. Encoding Categorical Data\n",
    "\n",
    "\n",
    "In order to use a feature in the classification models, we need to convert the categorical data (i.e., text features) to its numeric representation. This process is called encoding. There can be different ways of encoding. However, for this case study we will use a label encoder, which encodes labels with a value between 0 and n, where n is the number of distinct labels. The LabelEncoder function from sklearn is used in the following step, and all the categorical columns are encoded at once:\n"
   ]
  },
  {
   "cell_type": "code",
   "execution_count": 127,
   "metadata": {},
   "outputs": [],
   "source": [
    "from sklearn.preprocessing import LabelEncoder\n"
   ]
  },
  {
   "cell_type": "code",
   "execution_count": 130,
   "metadata": {},
   "outputs": [
    {
     "name": "stdout",
     "output_type": "stream",
     "text": [
      "loan_amnt                False\n",
      "funded_amnt              False\n",
      "term                     False\n",
      "int_rate                 False\n",
      "installment              False\n",
      "grade                     True\n",
      "sub_grade                 True\n",
      "home_ownership            True\n",
      "verification_status       True\n",
      "purpose                   True\n",
      "addr_state                True\n",
      "dti                      False\n",
      "earliest_cr_line         False\n",
      "open_acc                 False\n",
      "revol_util               False\n",
      "initial_list_status       True\n",
      "last_pymnt_amnt          False\n",
      "application_type          True\n",
      "acc_open_past_24mths     False\n",
      "avg_cur_bal              False\n",
      "bc_open_to_buy           False\n",
      "bc_util                  False\n",
      "mo_sin_old_rev_tl_op     False\n",
      "mo_sin_rcnt_rev_tl_op    False\n",
      "mort_acc                 False\n",
      "num_actv_rev_tl          False\n",
      "charged_off              False\n",
      "log_annual_inc           False\n",
      "fico_score               False\n",
      "dtype: bool\n"
     ]
    },
    {
     "data": {
      "text/plain": [
       "['grade',\n",
       " 'sub_grade',\n",
       " 'home_ownership',\n",
       " 'verification_status',\n",
       " 'purpose',\n",
       " 'addr_state',\n",
       " 'initial_list_status',\n",
       " 'application_type']"
      ]
     },
     "execution_count": 130,
     "metadata": {},
     "output_type": "execute_result"
    }
   ],
   "source": [
    "# Categorical boolean mask\n",
    "categorical_feature_mask = dataset.dtypes==object\n",
    "print(categorical_feature_mask)\n",
    "# filter categorical columns using mask and turn it into a list\n",
    "categorical_cols = dataset.columns[categorical_feature_mask].tolist()\n",
    "categorical_cols"
   ]
  },
  {
   "cell_type": "code",
   "execution_count": 131,
   "metadata": {},
   "outputs": [
    {
     "data": {
      "text/html": [
       "<div>\n",
       "<style scoped>\n",
       "    .dataframe tbody tr th:only-of-type {\n",
       "        vertical-align: middle;\n",
       "    }\n",
       "\n",
       "    .dataframe tbody tr th {\n",
       "        vertical-align: top;\n",
       "    }\n",
       "\n",
       "    .dataframe thead th {\n",
       "        text-align: right;\n",
       "    }\n",
       "</style>\n",
       "<table border=\"1\" class=\"dataframe\">\n",
       "  <thead>\n",
       "    <tr style=\"text-align: right;\">\n",
       "      <th></th>\n",
       "      <th>grade</th>\n",
       "      <th>sub_grade</th>\n",
       "      <th>home_ownership</th>\n",
       "      <th>verification_status</th>\n",
       "      <th>purpose</th>\n",
       "      <th>addr_state</th>\n",
       "      <th>initial_list_status</th>\n",
       "      <th>application_type</th>\n",
       "    </tr>\n",
       "  </thead>\n",
       "  <tbody>\n",
       "    <tr>\n",
       "      <th>0</th>\n",
       "      <td>2</td>\n",
       "      <td>10</td>\n",
       "      <td>3</td>\n",
       "      <td>1</td>\n",
       "      <td>2</td>\n",
       "      <td>40</td>\n",
       "      <td>1</td>\n",
       "      <td>0</td>\n",
       "    </tr>\n",
       "    <tr>\n",
       "      <th>1</th>\n",
       "      <td>0</td>\n",
       "      <td>2</td>\n",
       "      <td>1</td>\n",
       "      <td>0</td>\n",
       "      <td>1</td>\n",
       "      <td>4</td>\n",
       "      <td>1</td>\n",
       "      <td>0</td>\n",
       "    </tr>\n",
       "    <tr>\n",
       "      <th>2</th>\n",
       "      <td>3</td>\n",
       "      <td>15</td>\n",
       "      <td>3</td>\n",
       "      <td>1</td>\n",
       "      <td>1</td>\n",
       "      <td>21</td>\n",
       "      <td>1</td>\n",
       "      <td>0</td>\n",
       "    </tr>\n",
       "    <tr>\n",
       "      <th>4</th>\n",
       "      <td>2</td>\n",
       "      <td>12</td>\n",
       "      <td>3</td>\n",
       "      <td>1</td>\n",
       "      <td>2</td>\n",
       "      <td>3</td>\n",
       "      <td>0</td>\n",
       "      <td>0</td>\n",
       "    </tr>\n",
       "    <tr>\n",
       "      <th>5</th>\n",
       "      <td>2</td>\n",
       "      <td>12</td>\n",
       "      <td>3</td>\n",
       "      <td>1</td>\n",
       "      <td>2</td>\n",
       "      <td>26</td>\n",
       "      <td>0</td>\n",
       "      <td>0</td>\n",
       "    </tr>\n",
       "    <tr>\n",
       "      <th>6</th>\n",
       "      <td>1</td>\n",
       "      <td>9</td>\n",
       "      <td>1</td>\n",
       "      <td>1</td>\n",
       "      <td>3</td>\n",
       "      <td>20</td>\n",
       "      <td>0</td>\n",
       "      <td>0</td>\n",
       "    </tr>\n",
       "    <tr>\n",
       "      <th>7</th>\n",
       "      <td>1</td>\n",
       "      <td>8</td>\n",
       "      <td>2</td>\n",
       "      <td>2</td>\n",
       "      <td>2</td>\n",
       "      <td>40</td>\n",
       "      <td>1</td>\n",
       "      <td>0</td>\n",
       "    </tr>\n",
       "    <tr>\n",
       "      <th>8</th>\n",
       "      <td>2</td>\n",
       "      <td>13</td>\n",
       "      <td>3</td>\n",
       "      <td>1</td>\n",
       "      <td>1</td>\n",
       "      <td>42</td>\n",
       "      <td>0</td>\n",
       "      <td>0</td>\n",
       "    </tr>\n",
       "    <tr>\n",
       "      <th>9</th>\n",
       "      <td>1</td>\n",
       "      <td>8</td>\n",
       "      <td>3</td>\n",
       "      <td>0</td>\n",
       "      <td>2</td>\n",
       "      <td>18</td>\n",
       "      <td>0</td>\n",
       "      <td>0</td>\n",
       "    </tr>\n",
       "    <tr>\n",
       "      <th>10</th>\n",
       "      <td>1</td>\n",
       "      <td>9</td>\n",
       "      <td>3</td>\n",
       "      <td>2</td>\n",
       "      <td>2</td>\n",
       "      <td>19</td>\n",
       "      <td>0</td>\n",
       "      <td>0</td>\n",
       "    </tr>\n",
       "  </tbody>\n",
       "</table>\n",
       "</div>"
      ],
      "text/plain": [
       "    grade  sub_grade  home_ownership  verification_status  purpose  \\\n",
       "0       2         10               3                    1        2   \n",
       "1       0          2               1                    0        1   \n",
       "2       3         15               3                    1        1   \n",
       "4       2         12               3                    1        2   \n",
       "5       2         12               3                    1        2   \n",
       "6       1          9               1                    1        3   \n",
       "7       1          8               2                    2        2   \n",
       "8       2         13               3                    1        1   \n",
       "9       1          8               3                    0        2   \n",
       "10      1          9               3                    2        2   \n",
       "\n",
       "    addr_state  initial_list_status  application_type  \n",
       "0           40                    1                 0  \n",
       "1            4                    1                 0  \n",
       "2           21                    1                 0  \n",
       "4            3                    0                 0  \n",
       "5           26                    0                 0  \n",
       "6           20                    0                 0  \n",
       "7           40                    1                 0  \n",
       "8           42                    0                 0  \n",
       "9           18                    0                 0  \n",
       "10          19                    0                 0  "
      ]
     },
     "execution_count": 131,
     "metadata": {},
     "output_type": "execute_result"
    }
   ],
   "source": [
    "le = LabelEncoder()\n",
    "# apply le on categorical feature columns\n",
    "dataset[categorical_cols] = dataset[categorical_cols].apply(lambda col: le.fit_transform(col))\n",
    "dataset[categorical_cols].head(10)"
   ]
  },
  {
   "cell_type": "code",
   "execution_count": 135,
   "metadata": {},
   "outputs": [
    {
     "name": "stdout",
     "output_type": "stream",
     "text": [
      "(86138, 29)\n"
     ]
    },
    {
     "data": {
      "text/html": [
       "<div>\n",
       "<style scoped>\n",
       "    .dataframe tbody tr th:only-of-type {\n",
       "        vertical-align: middle;\n",
       "    }\n",
       "\n",
       "    .dataframe tbody tr th {\n",
       "        vertical-align: top;\n",
       "    }\n",
       "\n",
       "    .dataframe thead th {\n",
       "        text-align: right;\n",
       "    }\n",
       "</style>\n",
       "<table border=\"1\" class=\"dataframe\">\n",
       "  <thead>\n",
       "    <tr style=\"text-align: right;\">\n",
       "      <th></th>\n",
       "      <th>loan_amnt</th>\n",
       "      <th>funded_amnt</th>\n",
       "      <th>term</th>\n",
       "      <th>int_rate</th>\n",
       "      <th>installment</th>\n",
       "      <th>grade</th>\n",
       "      <th>sub_grade</th>\n",
       "      <th>home_ownership</th>\n",
       "      <th>verification_status</th>\n",
       "      <th>purpose</th>\n",
       "      <th>...</th>\n",
       "      <th>avg_cur_bal</th>\n",
       "      <th>bc_open_to_buy</th>\n",
       "      <th>bc_util</th>\n",
       "      <th>mo_sin_old_rev_tl_op</th>\n",
       "      <th>mo_sin_rcnt_rev_tl_op</th>\n",
       "      <th>mort_acc</th>\n",
       "      <th>num_actv_rev_tl</th>\n",
       "      <th>charged_off</th>\n",
       "      <th>log_annual_inc</th>\n",
       "      <th>fico_score</th>\n",
       "    </tr>\n",
       "  </thead>\n",
       "  <tbody>\n",
       "    <tr>\n",
       "      <th>0</th>\n",
       "      <td>15000.0</td>\n",
       "      <td>15000.0</td>\n",
       "      <td>60</td>\n",
       "      <td>12.39</td>\n",
       "      <td>336.64</td>\n",
       "      <td>2</td>\n",
       "      <td>10</td>\n",
       "      <td>3</td>\n",
       "      <td>1</td>\n",
       "      <td>2</td>\n",
       "      <td>...</td>\n",
       "      <td>29828.0</td>\n",
       "      <td>9525.0</td>\n",
       "      <td>4.7</td>\n",
       "      <td>244.0</td>\n",
       "      <td>1.0</td>\n",
       "      <td>0.0</td>\n",
       "      <td>4.0</td>\n",
       "      <td>0</td>\n",
       "      <td>4.892100</td>\n",
       "      <td>752.0</td>\n",
       "    </tr>\n",
       "    <tr>\n",
       "      <th>1</th>\n",
       "      <td>10400.0</td>\n",
       "      <td>10400.0</td>\n",
       "      <td>36</td>\n",
       "      <td>6.99</td>\n",
       "      <td>321.08</td>\n",
       "      <td>0</td>\n",
       "      <td>2</td>\n",
       "      <td>1</td>\n",
       "      <td>0</td>\n",
       "      <td>1</td>\n",
       "      <td>...</td>\n",
       "      <td>9536.0</td>\n",
       "      <td>7599.0</td>\n",
       "      <td>41.5</td>\n",
       "      <td>290.0</td>\n",
       "      <td>1.0</td>\n",
       "      <td>1.0</td>\n",
       "      <td>9.0</td>\n",
       "      <td>1</td>\n",
       "      <td>4.763435</td>\n",
       "      <td>712.0</td>\n",
       "    </tr>\n",
       "    <tr>\n",
       "      <th>2</th>\n",
       "      <td>21425.0</td>\n",
       "      <td>21425.0</td>\n",
       "      <td>60</td>\n",
       "      <td>15.59</td>\n",
       "      <td>516.36</td>\n",
       "      <td>3</td>\n",
       "      <td>15</td>\n",
       "      <td>3</td>\n",
       "      <td>1</td>\n",
       "      <td>1</td>\n",
       "      <td>...</td>\n",
       "      <td>4232.0</td>\n",
       "      <td>324.0</td>\n",
       "      <td>97.8</td>\n",
       "      <td>136.0</td>\n",
       "      <td>7.0</td>\n",
       "      <td>0.0</td>\n",
       "      <td>4.0</td>\n",
       "      <td>0</td>\n",
       "      <td>4.804827</td>\n",
       "      <td>687.0</td>\n",
       "    </tr>\n",
       "    <tr>\n",
       "      <th>4</th>\n",
       "      <td>7650.0</td>\n",
       "      <td>7650.0</td>\n",
       "      <td>36</td>\n",
       "      <td>13.66</td>\n",
       "      <td>260.20</td>\n",
       "      <td>2</td>\n",
       "      <td>12</td>\n",
       "      <td>3</td>\n",
       "      <td>1</td>\n",
       "      <td>2</td>\n",
       "      <td>...</td>\n",
       "      <td>5857.0</td>\n",
       "      <td>332.0</td>\n",
       "      <td>93.2</td>\n",
       "      <td>148.0</td>\n",
       "      <td>8.0</td>\n",
       "      <td>0.0</td>\n",
       "      <td>4.0</td>\n",
       "      <td>1</td>\n",
       "      <td>4.698979</td>\n",
       "      <td>687.0</td>\n",
       "    </tr>\n",
       "    <tr>\n",
       "      <th>5</th>\n",
       "      <td>9600.0</td>\n",
       "      <td>9600.0</td>\n",
       "      <td>36</td>\n",
       "      <td>13.66</td>\n",
       "      <td>326.53</td>\n",
       "      <td>2</td>\n",
       "      <td>12</td>\n",
       "      <td>3</td>\n",
       "      <td>1</td>\n",
       "      <td>2</td>\n",
       "      <td>...</td>\n",
       "      <td>3214.0</td>\n",
       "      <td>6494.0</td>\n",
       "      <td>69.2</td>\n",
       "      <td>265.0</td>\n",
       "      <td>23.0</td>\n",
       "      <td>0.0</td>\n",
       "      <td>7.0</td>\n",
       "      <td>0</td>\n",
       "      <td>4.838855</td>\n",
       "      <td>682.0</td>\n",
       "    </tr>\n",
       "  </tbody>\n",
       "</table>\n",
       "<p>5 rows × 29 columns</p>\n",
       "</div>"
      ],
      "text/plain": [
       "   loan_amnt  funded_amnt  term  int_rate  installment  grade  sub_grade  \\\n",
       "0    15000.0      15000.0    60     12.39       336.64      2         10   \n",
       "1    10400.0      10400.0    36      6.99       321.08      0          2   \n",
       "2    21425.0      21425.0    60     15.59       516.36      3         15   \n",
       "4     7650.0       7650.0    36     13.66       260.20      2         12   \n",
       "5     9600.0       9600.0    36     13.66       326.53      2         12   \n",
       "\n",
       "   home_ownership  verification_status  purpose  ...  avg_cur_bal  \\\n",
       "0               3                    1        2  ...      29828.0   \n",
       "1               1                    0        1  ...       9536.0   \n",
       "2               3                    1        1  ...       4232.0   \n",
       "4               3                    1        2  ...       5857.0   \n",
       "5               3                    1        2  ...       3214.0   \n",
       "\n",
       "   bc_open_to_buy  bc_util  mo_sin_old_rev_tl_op  mo_sin_rcnt_rev_tl_op  \\\n",
       "0          9525.0      4.7                 244.0                    1.0   \n",
       "1          7599.0     41.5                 290.0                    1.0   \n",
       "2           324.0     97.8                 136.0                    7.0   \n",
       "4           332.0     93.2                 148.0                    8.0   \n",
       "5          6494.0     69.2                 265.0                   23.0   \n",
       "\n",
       "   mort_acc  num_actv_rev_tl  charged_off  log_annual_inc  fico_score  \n",
       "0       0.0              4.0            0        4.892100       752.0  \n",
       "1       1.0              9.0            1        4.763435       712.0  \n",
       "2       0.0              4.0            0        4.804827       687.0  \n",
       "4       0.0              4.0            1        4.698979       687.0  \n",
       "5       0.0              7.0            0        4.838855       682.0  \n",
       "\n",
       "[5 rows x 29 columns]"
      ]
     },
     "execution_count": 135,
     "metadata": {},
     "output_type": "execute_result"
    }
   ],
   "source": [
    "print(dataset.shape)\n",
    "dataset.head(5)\n"
   ]
  },
  {
   "cell_type": "markdown",
   "metadata": {},
   "source": [
    "### 4.3. Sampling Data\n",
    "\n",
    "Given that the loan data is skewed, it is sampled to have an equal number of charge-off and no charge-off observations. Sampling leads to a more balanced dataset and avoids overfitting:\n",
    "\n"
   ]
  },
  {
   "cell_type": "code",
   "execution_count": 136,
   "metadata": {},
   "outputs": [
    {
     "name": "stdout",
     "output_type": "stream",
     "text": [
      "Current shape of dataset : (11000, 29)\n"
     ]
    },
    {
     "data": {
      "text/html": [
       "<div>\n",
       "<style scoped>\n",
       "    .dataframe tbody tr th:only-of-type {\n",
       "        vertical-align: middle;\n",
       "    }\n",
       "\n",
       "    .dataframe tbody tr th {\n",
       "        vertical-align: top;\n",
       "    }\n",
       "\n",
       "    .dataframe thead th {\n",
       "        text-align: right;\n",
       "    }\n",
       "</style>\n",
       "<table border=\"1\" class=\"dataframe\">\n",
       "  <thead>\n",
       "    <tr style=\"text-align: right;\">\n",
       "      <th></th>\n",
       "      <th>loan_amnt</th>\n",
       "      <th>funded_amnt</th>\n",
       "      <th>term</th>\n",
       "      <th>int_rate</th>\n",
       "      <th>installment</th>\n",
       "      <th>grade</th>\n",
       "      <th>sub_grade</th>\n",
       "      <th>home_ownership</th>\n",
       "      <th>verification_status</th>\n",
       "      <th>purpose</th>\n",
       "      <th>...</th>\n",
       "      <th>avg_cur_bal</th>\n",
       "      <th>bc_open_to_buy</th>\n",
       "      <th>bc_util</th>\n",
       "      <th>mo_sin_old_rev_tl_op</th>\n",
       "      <th>mo_sin_rcnt_rev_tl_op</th>\n",
       "      <th>mort_acc</th>\n",
       "      <th>num_actv_rev_tl</th>\n",
       "      <th>charged_off</th>\n",
       "      <th>log_annual_inc</th>\n",
       "      <th>fico_score</th>\n",
       "    </tr>\n",
       "  </thead>\n",
       "  <tbody>\n",
       "    <tr>\n",
       "      <th>0</th>\n",
       "      <td>21000.0</td>\n",
       "      <td>21000.0</td>\n",
       "      <td>36</td>\n",
       "      <td>8.67</td>\n",
       "      <td>664.58</td>\n",
       "      <td>1</td>\n",
       "      <td>5</td>\n",
       "      <td>3</td>\n",
       "      <td>1</td>\n",
       "      <td>2</td>\n",
       "      <td>...</td>\n",
       "      <td>11157.0</td>\n",
       "      <td>371.0</td>\n",
       "      <td>98.7</td>\n",
       "      <td>270.0</td>\n",
       "      <td>164.0</td>\n",
       "      <td>4.0</td>\n",
       "      <td>3.0</td>\n",
       "      <td>0</td>\n",
       "      <td>5.161371</td>\n",
       "      <td>672.0</td>\n",
       "    </tr>\n",
       "    <tr>\n",
       "      <th>1</th>\n",
       "      <td>20000.0</td>\n",
       "      <td>20000.0</td>\n",
       "      <td>36</td>\n",
       "      <td>6.03</td>\n",
       "      <td>608.72</td>\n",
       "      <td>0</td>\n",
       "      <td>0</td>\n",
       "      <td>1</td>\n",
       "      <td>1</td>\n",
       "      <td>3</td>\n",
       "      <td>...</td>\n",
       "      <td>39345.0</td>\n",
       "      <td>84672.0</td>\n",
       "      <td>14.5</td>\n",
       "      <td>269.0</td>\n",
       "      <td>15.0</td>\n",
       "      <td>8.0</td>\n",
       "      <td>6.0</td>\n",
       "      <td>0</td>\n",
       "      <td>5.414975</td>\n",
       "      <td>782.0</td>\n",
       "    </tr>\n",
       "    <tr>\n",
       "      <th>2</th>\n",
       "      <td>3600.0</td>\n",
       "      <td>3600.0</td>\n",
       "      <td>36</td>\n",
       "      <td>15.61</td>\n",
       "      <td>125.88</td>\n",
       "      <td>3</td>\n",
       "      <td>15</td>\n",
       "      <td>3</td>\n",
       "      <td>0</td>\n",
       "      <td>7</td>\n",
       "      <td>...</td>\n",
       "      <td>2269.0</td>\n",
       "      <td>313.0</td>\n",
       "      <td>95.3</td>\n",
       "      <td>110.0</td>\n",
       "      <td>19.0</td>\n",
       "      <td>0.0</td>\n",
       "      <td>5.0</td>\n",
       "      <td>1</td>\n",
       "      <td>4.698979</td>\n",
       "      <td>702.0</td>\n",
       "    </tr>\n",
       "    <tr>\n",
       "      <th>3</th>\n",
       "      <td>18000.0</td>\n",
       "      <td>18000.0</td>\n",
       "      <td>36</td>\n",
       "      <td>11.67</td>\n",
       "      <td>595.03</td>\n",
       "      <td>1</td>\n",
       "      <td>8</td>\n",
       "      <td>3</td>\n",
       "      <td>0</td>\n",
       "      <td>2</td>\n",
       "      <td>...</td>\n",
       "      <td>5301.0</td>\n",
       "      <td>6447.0</td>\n",
       "      <td>79.9</td>\n",
       "      <td>110.0</td>\n",
       "      <td>3.0</td>\n",
       "      <td>0.0</td>\n",
       "      <td>5.0</td>\n",
       "      <td>0</td>\n",
       "      <td>5.010728</td>\n",
       "      <td>682.0</td>\n",
       "    </tr>\n",
       "    <tr>\n",
       "      <th>4</th>\n",
       "      <td>5000.0</td>\n",
       "      <td>5000.0</td>\n",
       "      <td>36</td>\n",
       "      <td>12.99</td>\n",
       "      <td>168.45</td>\n",
       "      <td>2</td>\n",
       "      <td>10</td>\n",
       "      <td>3</td>\n",
       "      <td>1</td>\n",
       "      <td>2</td>\n",
       "      <td>...</td>\n",
       "      <td>1753.0</td>\n",
       "      <td>516.0</td>\n",
       "      <td>85.7</td>\n",
       "      <td>29.0</td>\n",
       "      <td>2.0</td>\n",
       "      <td>0.0</td>\n",
       "      <td>5.0</td>\n",
       "      <td>1</td>\n",
       "      <td>4.681250</td>\n",
       "      <td>687.0</td>\n",
       "    </tr>\n",
       "  </tbody>\n",
       "</table>\n",
       "<p>5 rows × 29 columns</p>\n",
       "</div>"
      ],
      "text/plain": [
       "   loan_amnt  funded_amnt  term  int_rate  installment  grade  sub_grade  \\\n",
       "0    21000.0      21000.0    36      8.67       664.58      1          5   \n",
       "1    20000.0      20000.0    36      6.03       608.72      0          0   \n",
       "2     3600.0       3600.0    36     15.61       125.88      3         15   \n",
       "3    18000.0      18000.0    36     11.67       595.03      1          8   \n",
       "4     5000.0       5000.0    36     12.99       168.45      2         10   \n",
       "\n",
       "   home_ownership  verification_status  purpose  ...  avg_cur_bal  \\\n",
       "0               3                    1        2  ...      11157.0   \n",
       "1               1                    1        3  ...      39345.0   \n",
       "2               3                    0        7  ...       2269.0   \n",
       "3               3                    0        2  ...       5301.0   \n",
       "4               3                    1        2  ...       1753.0   \n",
       "\n",
       "   bc_open_to_buy  bc_util  mo_sin_old_rev_tl_op  mo_sin_rcnt_rev_tl_op  \\\n",
       "0           371.0     98.7                 270.0                  164.0   \n",
       "1         84672.0     14.5                 269.0                   15.0   \n",
       "2           313.0     95.3                 110.0                   19.0   \n",
       "3          6447.0     79.9                 110.0                    3.0   \n",
       "4           516.0     85.7                  29.0                    2.0   \n",
       "\n",
       "   mort_acc  num_actv_rev_tl  charged_off  log_annual_inc  fico_score  \n",
       "0       4.0              3.0            0        5.161371       672.0  \n",
       "1       8.0              6.0            0        5.414975       782.0  \n",
       "2       0.0              5.0            1        4.698979       702.0  \n",
       "3       0.0              5.0            0        5.010728       682.0  \n",
       "4       0.0              5.0            1        4.681250       687.0  \n",
       "\n",
       "[5 rows x 29 columns]"
      ]
     },
     "execution_count": 136,
     "metadata": {},
     "output_type": "execute_result"
    }
   ],
   "source": [
    "loanstatus_0 = dataset[dataset[\"charged_off\"]==0]\n",
    "loanstatus_1 = dataset[dataset[\"charged_off\"]==1]\n",
    "subset_of_loanstatus_0 = loanstatus_0.sample(n=5500)\n",
    "subset_of_loanstatus_1 = loanstatus_1.sample(n=5500)\n",
    "dataset = pd.concat([subset_of_loanstatus_1, subset_of_loanstatus_0])\n",
    "dataset = dataset.sample(frac=1).reset_index(drop=True)\n",
    "print(\"Current shape of dataset :\",dataset.shape)\n",
    "dataset.head()"
   ]
  },
  {
   "cell_type": "code",
   "execution_count": 137,
   "metadata": {},
   "outputs": [],
   "source": [
    "#Filling the NAs with the mean of the column.\n",
    "dataset.fillna(dataset.mean(),inplace = True)"
   ]
  },
  {
   "cell_type": "markdown",
   "metadata": {},
   "source": [
    "## 5. Evaluate Algorithms and Models\n",
    "\n",
    "### 5.1. Train Test Split"
   ]
  },
  {
   "cell_type": "code",
   "execution_count": 138,
   "metadata": {},
   "outputs": [],
   "source": [
    "# split out validation dataset for the end\n",
    "Y= dataset[\"charged_off\"]\n",
    "X = dataset.loc[:, dataset.columns != 'charged_off']\n",
    "validation_size = 0.2\n",
    "seed = 7\n",
    "X_train, X_validation, Y_train, Y_validation = train_test_split(X, Y, test_size=validation_size, random_state=seed)"
   ]
  },
  {
   "cell_type": "code",
   "execution_count": 139,
   "metadata": {},
   "outputs": [
    {
     "data": {
      "text/plain": [
       "1    5500\n",
       "0    5500\n",
       "Name: charged_off, dtype: int64"
      ]
     },
     "execution_count": 139,
     "metadata": {},
     "output_type": "execute_result"
    }
   ],
   "source": [
    "dataset['charged_off'].value_counts()"
   ]
  },
  {
   "attachments": {},
   "cell_type": "markdown",
   "metadata": {},
   "source": [
    "### 5.2. Test Options and Evaluation Metrics\n",
    "\n",
    "In this step, the test options and evaluation metrics are selected. The roc_auc evaluation metric is selected for this classification. The details of this metric were provided in Chapter 4. This metric represents a model’s ability to discriminate between positive and negative classes. An roc_auc of 1.0 represents a model that made all predictions perfectly, and a value of 0.5 represents a model that is as good as random.\n",
    "\n",
    "The model cannot afford to have a high amount of false negatives as that leads to a negative impact on the investors and the credibility of the company.\n"
   ]
  },
  {
   "cell_type": "code",
   "execution_count": 143,
   "metadata": {},
   "outputs": [],
   "source": [
    "# test options for classification\n",
    "num_folds = 10\n",
    "seed = 7\n",
    "#scoring = 'accuracy'\n",
    "#scoring ='precision'\n",
    "#scoring ='recall'\n",
    "scoring = 'roc_auc'"
   ]
  },
  {
   "cell_type": "markdown",
   "metadata": {},
   "source": [
    "### 5.3. Compare Models and Algorithms\n",
    "#### Classification Models"
   ]
  },
  {
   "cell_type": "code",
   "execution_count": 144,
   "metadata": {},
   "outputs": [],
   "source": [
    "# spot check the algorithms\n",
    "models = []\n",
    "models.append(('LR', LogisticRegression()))\n",
    "models.append(('LDA', LinearDiscriminantAnalysis()))\n",
    "models.append(('KNN', KNeighborsClassifier()))\n",
    "models.append(('CART', DecisionTreeClassifier()))\n",
    "models.append(('NB', GaussianNB()))\n",
    "#Neural Network\n",
    "models.append(('NN', MLPClassifier()))\n",
    "#Ensable Models \n",
    "# Boosting methods\n",
    "models.append(('AB', AdaBoostClassifier()))\n",
    "models.append(('GBM', GradientBoostingClassifier()))\n",
    "# Bagging methods\n",
    "models.append(('RF', RandomForestClassifier()))\n",
    "models.append(('ET', ExtraTreesClassifier()))"
   ]
  },
  {
   "cell_type": "markdown",
   "metadata": {},
   "source": [
    "#### K-folds cross validation"
   ]
  },
  {
   "cell_type": "code",
   "execution_count": 145,
   "metadata": {},
   "outputs": [
    {
     "name": "stdout",
     "output_type": "stream",
     "text": [
      "LR: 0.904288 (0.008430)\n",
      "LDA: 0.903925 (0.007668)\n",
      "KNN: 0.816585 (0.012222)\n",
      "CART: 0.798552 (0.009534)\n",
      "NB: 0.902338 (0.008041)\n",
      "NN: 0.875247 (0.013978)\n",
      "AB: 0.931061 (0.003290)\n",
      "GBM: 0.940505 (0.005028)\n",
      "RF: 0.932493 (0.005102)\n",
      "ET: 0.920385 (0.006319)\n"
     ]
    }
   ],
   "source": [
    "results = []\n",
    "names = []\n",
    "for name, model in models:\n",
    "    kfold = KFold(n_splits=num_folds, random_state=seed)\n",
    "    cv_results = cross_val_score(model, X_train, Y_train, cv=kfold, scoring=scoring)\n",
    "    results.append(cv_results)\n",
    "    names.append(name)\n",
    "    msg = \"%s: %f (%f)\" % (name, cv_results.mean(), cv_results.std())\n",
    "    print(msg)"
   ]
  },
  {
   "cell_type": "code",
   "execution_count": 146,
   "metadata": {
    "scrolled": true
   },
   "outputs": [
    {
     "data": {
      "image/png": "[encoded data removed]",
      "text/plain": [
       "<Figure size 1080x576 with 1 Axes>"
      ]
     },
     "metadata": {},
     "output_type": "display_data"
    }
   ],
   "source": [
    "# compare algorithms\n",
    "fig = pyplot.figure()\n",
    "fig.suptitle('Algorithm Comparison')\n",
    "ax = fig.add_subplot(111)\n",
    "pyplot.boxplot(results)\n",
    "ax.set_xticklabels(names)\n",
    "fig.set_size_inches(15,8)\n",
    "pyplot.show()"
   ]
  },
  {
   "cell_type": "markdown",
   "metadata": {},
   "source": [
    "## 6. Model Tuning and Grid Search\n",
    "Given that the Gradient Boosting is the best model, Grid Search is performed on GBM in this step.\n"
   ]
  },
  {
   "cell_type": "code",
   "execution_count": 147,
   "metadata": {},
   "outputs": [
    {
     "name": "stdout",
     "output_type": "stream",
     "text": [
      "Best: 0.940538 using {'max_depth': 3, 'n_estimators': 180}\n",
      "#4 0.929816 (0.006199) with: {'max_depth': 3, 'n_estimators': 20}\n",
      "#1 0.940538 (0.004843) with: {'max_depth': 3, 'n_estimators': 180}\n",
      "#3 0.935714 (0.006193) with: {'max_depth': 5, 'n_estimators': 20}\n",
      "#2 0.939372 (0.005028) with: {'max_depth': 5, 'n_estimators': 180}\n"
     ]
    }
   ],
   "source": [
    "# Grid Search: GradientBoosting Tuning\n",
    "'''\n",
    "n_estimators : int (default=100)\n",
    "    The number of boosting stages to perform. \n",
    "    Gradient boosting is fairly robust to over-fitting so a large number usually results in better performance.\n",
    "max_depth : integer, optional (default=3)\n",
    "    maximum depth of the individual regression estimators. \n",
    "    The maximum depth limits the number of nodes in the tree. \n",
    "    Tune this parameter for best performance; the best value depends on the interaction of the input variables.\n",
    "\n",
    "''' \n",
    "n_estimators = [20,180]\n",
    "max_depth= [3,5]\n",
    "param_grid = dict(n_estimators=n_estimators, max_depth=max_depth)\n",
    "model = GradientBoostingClassifier()\n",
    "kfold = KFold(n_splits=num_folds, random_state=seed)\n",
    "grid = GridSearchCV(estimator=model, param_grid=param_grid, scoring=scoring, cv=kfold)\n",
    "grid_result = grid.fit(X_train, Y_train)\n",
    "\n",
    "#Print Results\n",
    "print(\"Best: %f using %s\" % (grid_result.best_score_, grid_result.best_params_))\n",
    "means = grid_result.cv_results_['mean_test_score']\n",
    "stds = grid_result.cv_results_['std_test_score']\n",
    "params = grid_result.cv_results_['params']\n",
    "ranks = grid_result.cv_results_['rank_test_score']\n",
    "for mean, stdev, param, rank in zip(means, stds, params, ranks):\n",
    "    print(\"#%d %f (%f) with: %r\" % (rank, mean, stdev, param))"
   ]
  },
  {
   "cell_type": "markdown",
   "metadata": {},
   "source": [
    "## 7. Finalise the Model\n",
    "Looking at the details above GBM might be worthy of further study, but for now SVM shows a lot of promise as a low complexity and stable model for this problem.\n",
    "\n",
    "Finalize Model with best parameters found during tuning step."
   ]
  },
  {
   "cell_type": "code",
   "execution_count": 149,
   "metadata": {},
   "outputs": [
    {
     "data": {
      "text/plain": [
       "GradientBoostingClassifier(max_depth=5, n_estimators=180)"
      ]
     },
     "execution_count": 149,
     "metadata": {},
     "output_type": "execute_result"
    }
   ],
   "source": [
    "# prepare model\n",
    "model = GradientBoostingClassifier(max_depth= 5, n_estimators= 180)\n",
    "model.fit(X_train, Y_train)\n",
    "\n",
    "GradientBoostingClassifier(ccp_alpha=0.0, criterion='friedman_mse', init=None,\n",
    "                           learning_rate=0.1, loss='deviance', max_depth=5,\n",
    "                           max_features=None, max_leaf_nodes=None,\n",
    "                           min_impurity_decrease=0.0, min_impurity_split=None,\n",
    "                           min_samples_leaf=1, min_samples_split=2,\n",
    "                           min_weight_fraction_leaf=0.0, n_estimators=180,\n",
    "                           n_iter_no_change=None, presort='deprecated',\n",
    "                           random_state=None, subsample=1.0, tol=0.0001,\n",
    "                           validation_fraction=0.1, verbose=0,\n",
    "                           warm_start=False)"
   ]
  },
  {
   "cell_type": "code",
   "execution_count": 157,
   "metadata": {},
   "outputs": [
    {
     "data": {
      "image/png": "[encoded data removed]",
      "text/plain": [
       "<Figure size 864x360 with 2 Axes>"
      ]
     },
     "metadata": {},
     "output_type": "display_data"
    },
    {
     "name": "stdout",
     "output_type": "stream",
     "text": [
      "              precision    recall  f1-score   support\n",
      "\n",
      "           0       0.87      0.81      0.84      1081\n",
      "           1       0.83      0.88      0.85      1119\n",
      "\n",
      "    accuracy                           0.85      2200\n",
      "   macro avg       0.85      0.85      0.85      2200\n",
      "weighted avg       0.85      0.85      0.85      2200\n",
      "\n"
     ]
    }
   ],
   "source": [
    "# estimate accuracy on validation set\n",
    "predictions = model.predict(X_validation)\n",
    "df_cm = pd.DataFrame(confusion_matrix(Y_validation, predictions), columns=np.unique(Y_validation), index = np.unique(Y_validation))\n",
    "df_cm.index.name = 'Real'\n",
    "df_cm.columns.name = 'Predicted'\n",
    "sns.heatmap(df_cm, cmap=\"Blues\", annot=True,annot_kws={\"size\": 16})# font sizes\n",
    "plt.show()\n",
    "print(classification_report(Y_validation, predictions))"
   ]
  },
  {
   "cell_type": "markdown",
   "metadata": {},
   "source": [
    "### 7.2. Variable Intuition/Feature Importance\n",
    "\n",
    "Looking at the details above GBM might be worthy of further study. Let us look into the Feature Importance of the GBM model\n",
    "\n"
   ]
  },
  {
   "cell_type": "code",
   "execution_count": 156,
   "metadata": {},
   "outputs": [
    {
     "data": {
      "image/png": "[encoded data removed]",
      "text/plain": [
       "<Figure size 864x360 with 1 Axes>"
      ]
     },
     "metadata": {},
     "output_type": "display_data"
    }
   ],
   "source": [
    "#plot graph of feature importances for better visualization\n",
    "feat_importances = pd.Series(model.feature_importances_, index=X.columns)\n",
    "feat_importances.nlargest(10).plot(kind='barh')\n",
    "pyplot.show()"
   ]
  },
  {
   "cell_type": "markdown",
   "metadata": {},
   "source": [
    "The results of the model importance are intuitive. The last payment amount seems to be the most important feature, followed by loan term and sub-grade.\n",
    " "
   ]
  },
  {
   "cell_type": "markdown",
   "metadata": {},
   "source": [
    "### Conclusion:\n",
    "\n",
    "\n",
    "Performing data processing and establishing an understanding of variable importance is key in the model development process. A focus on these steps led to the implementation of a simple classification-based model that produced robust results for default prediction.\n",
    "\n"
   ]
  },
  {
   "cell_type": "code",
   "execution_count": null,
   "metadata": {},
   "outputs": [],
   "source": []
  }
 ],
 "metadata": {
  "kernelspec": {
   "display_name": "Python 3",
   "language": "python",
   "name": "python3"
  },
  "language_info": {
   "codemirror_mode": {
    "name": "ipython",
    "version": 3
   },
   "file_extension": ".py",
   "mimetype": "text/x-python",
   "name": "python",
   "nbconvert_exporter": "python",
   "pygments_lexer": "ipython3",
   "version": "3.8.3"
  }
 },
 "nbformat": 4,
 "nbformat_minor": 4
}
